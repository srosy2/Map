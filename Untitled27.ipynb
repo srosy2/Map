{
 "cells": [
  {
   "cell_type": "code",
   "execution_count": 1,
   "metadata": {},
   "outputs": [
    {
     "name": "stdout",
     "output_type": "stream",
     "text": [
      "Populating the interactive namespace from numpy and matplotlib\n"
     ]
    },
    {
     "name": "stderr",
     "output_type": "stream",
     "text": [
      "/home/vladislav/.local/lib/python3.8/site-packages/IPython/core/magics/pylab.py:159: UserWarning: pylab import has clobbered these variables: ['ceil', 'datetime', 'floor']\n",
      "`%matplotlib` prevents importing * from pylab and numpy\n",
      "  warn(\"pylab import has clobbered these variables: %s\"  % clobbered +\n"
     ]
    }
   ],
   "source": [
    "from os import chdir, listdir\n",
    "import os\n",
    "import re\n",
    "from datetime import datetime, timedelta\n",
    "import numpy as np\n",
    "from math import ceil, floor\n",
    "from sklearn.preprocessing import StandardScaler\n",
    "from sklearn.linear_model import LinearRegression\n",
    "from tqdm import tqdm\n",
    "%pylab inline\n",
    "import pandas as pd\n",
    "from scipy import stats\n",
    "import statsmodels.api as sm\n",
    "import matplotlib.pyplot as plt\n",
    "import warnings\n",
    "from itertools import product\n",
    "from sklearn.cluster import KMeans\n",
    "from scipy.cluster.hierarchy import dendrogram, linkage, fcluster\n",
    "from sklearn.metrics import mean_squared_error\n",
    "from sklearn.linear_model import ElasticNet\n",
    "from IPython.core.debugger import set_trace\n",
    "import json\n",
    "%matplotlib inline"
   ]
  },
  {
   "cell_type": "code",
   "execution_count": 2,
   "metadata": {},
   "outputs": [],
   "source": [
    "import pandas as pd\n",
    "from scipy.stats import binned_statistic_2d\n",
    "import numpy as np\n",
    "from tqdm import tqdm\n",
    "import seaborn as sns\n",
    "import matplotlib.pyplot as plt\n",
    "from pylab import rcParams\n",
    "rcParams['figure.figsize'] = 25, 10\n",
    "sns.set()"
   ]
  },
  {
   "cell_type": "code",
   "execution_count": 3,
   "metadata": {},
   "outputs": [],
   "source": [
    "from statsmodels.tsa.statespace.sarimax import SARIMAXResults"
   ]
  },
  {
   "cell_type": "markdown",
   "metadata": {},
   "source": [
    "# Пишем функции создания новых фичей"
   ]
  },
  {
   "cell_type": "code",
   "execution_count": 4,
   "metadata": {},
   "outputs": [],
   "source": [
    "def prepare_data(df):\n",
    "    df = df.copy()\n",
    "    df.drop(df.loc[df['tpep_pickup_datetime'] == df['tpep_dropoff_datetime']].index.values, inplace=True)\n",
    "    df.drop(df[df['passenger_count']==0].index, inplace=True)\n",
    "    df.drop(df[df['trip_distance']==0].index, inplace=True)\n",
    "    df.drop(df[(df['pickup_longitude']<-74.25559) | (df['pickup_longitude']>-73.70001) | (df['pickup_latitude']<40.49612) | (df['pickup_latitude']>40.91553)].index,inplace=True)\n",
    "#     time = pd.DatetimeIndex(df['tpep_pickup_datetime'])\n",
    "#     df['Hours'] = time.day*24 + time.hour\n",
    "    df['Hours'] = df['tpep_pickup_datetime'].apply(lambda x: datetime.datetime.strptime(x[:-6], '%Y-%m-%d %H'))\n",
    "    return df"
   ]
  },
  {
   "cell_type": "code",
   "execution_count": 5,
   "metadata": {},
   "outputs": [],
   "source": [
    "def prepare_time_data(df):\n",
    "    df= df.copy()\n",
    "    y = np.linspace(-74.25559,-73.70001,51)\n",
    "    x = np.linspace(40.49612,40.91553,51)\n",
    "    time_array = np.array([])\n",
    "    for i in tqdm(sorted(list(set(df['Hours'])))):\n",
    "        new_x = df[df['Hours']==i]['pickup_latitude'].values\n",
    "        new_y = df[df['Hours']==i]['pickup_longitude'].values\n",
    "        score = binned_statistic_2d(new_y,new_x,new_y,'count',bins=[y,x]).statistic\n",
    "        if time_array.size==0:\n",
    "            time_array=score\n",
    "        else:\n",
    "            time_array = np.vstack((time_array,score))\n",
    "    return time_array"
   ]
  },
  {
   "cell_type": "code",
   "execution_count": 6,
   "metadata": {},
   "outputs": [],
   "source": [
    "class TimeSplit:\n",
    "    def __init__(self, time_series, start, period, step):\n",
    "        self.period = period\n",
    "        self.start = start\n",
    "        self.step = step\n",
    "        self.time = time_series\n",
    "        \n",
    "    def __iter__(self):\n",
    "        return self\n",
    "        \n",
    "    def __next__(self):\n",
    "        self.time_train = self.time[: self.start]\n",
    "        self.time_predict = self.time[self.start : self.start + self.period]\n",
    "        self.start += 1\n",
    "        if len(self.time_predict) == 6:\n",
    "            return self.time_train, self.time_predict\n",
    "        else:\n",
    "            raise StopIteration"
   ]
  },
  {
   "cell_type": "code",
   "execution_count": 7,
   "metadata": {},
   "outputs": [],
   "source": [
    "def add_time(df, df1):\n",
    "    time_array = df.copy()\n",
    "    time_region = pd.DataFrame()\n",
    "    houres = sorted(list(set(df1['Hours'])))\n",
    "    for i in range(int(time_array.shape[0]/50)):\n",
    "        time_region[houres[i]] = time_array[i*50:(i+1)*50].reshape(-1)\n",
    "    return time_region"
   ]
  },
  {
   "cell_type": "code",
   "execution_count": 8,
   "metadata": {},
   "outputs": [],
   "source": [
    "def diff_model(df, diff, feature):\n",
    "    df = df.copy()\n",
    "    for i in diff:\n",
    "        df[feature] = df[feature] - df[feature].shift(i)\n",
    "    return df"
   ]
  },
  {
   "cell_type": "code",
   "execution_count": 9,
   "metadata": {},
   "outputs": [],
   "source": [
    "def by_season(data, files, model, fit=True):\n",
    "    cars = [x.loc[region] for x in data for region in range(2500)]\n",
    "    seasons = [pd.concat(tuple([cars[j*int(len(cars)/len(files))+i] for j in range(len(files))])) for i in range(2500)]\n",
    "    seasons = pd.concat(tuple(seasons[i] for i in range(len(seasons))),axis=1)\n",
    "    seasons.columns = [x for x in range(1,2501)]\n",
    "    if fit:\n",
    "        prep_seasons = pd.DataFrame(data=model.fit_transform(seasons[regions.values]),\n",
    "                                    columns=regions.values, index=seasons.index)\n",
    "        return prep_seasons, model\n",
    "    else:\n",
    "        prep_seasons = pd.DataFrame(data=model.transform(seasons[regions.values]),\n",
    "                                    columns=regions.values, index=seasons.index)\n",
    "        return prep_seasons"
   ]
  },
  {
   "cell_type": "code",
   "execution_count": 10,
   "metadata": {},
   "outputs": [],
   "source": [
    "def create_add_regreassors(df, region, optim):\n",
    "    time_series = pd.DataFrame(df[region])\n",
    "    ols_data = time_series.copy()\n",
    "    for i in range(1, optim+1):        \n",
    "        ols_data['s_'+str(i)] = np.sin(np.arange(1, time_series.shape[0]+1)*2*np.pi*i/168)\n",
    "        ols_data['c_'+str(i)] = np.cos(np.arange(1, time_series.shape[0]+1)*2*np.pi*i/168)\n",
    "    X = ols_data.loc[:, 's_1':]\n",
    "    return X"
   ]
  },
  {
   "cell_type": "code",
   "execution_count": 11,
   "metadata": {},
   "outputs": [],
   "source": [
    "def metric(ground_truth: pd.DataFrame, predict: pd.DataFrame):\n",
    "    return sum(abs(ground_truth - predict))"
   ]
  },
  {
   "cell_type": "code",
   "execution_count": 12,
   "metadata": {},
   "outputs": [],
   "source": [
    "def add_time_features(df):\n",
    "    df = df.copy()\n",
    "    df['month'] = df.index.month\n",
    "    df['day'] = df.index.day\n",
    "    df['hour'] = df.index.hour\n",
    "    return df"
   ]
  },
  {
   "cell_type": "code",
   "execution_count": 13,
   "metadata": {},
   "outputs": [],
   "source": [
    "def add_arima_prediction(df, model, exog):\n",
    "    df = df.copy()\n",
    "    df['arima_predict'] = model.predict(start=df.index[0], end=df.index[-1], exog=exog)\n",
    "    return df"
   ]
  },
  {
   "cell_type": "code",
   "execution_count": 14,
   "metadata": {},
   "outputs": [],
   "source": [
    "def add_td_features(df, K, K_day, region):\n",
    "    df = df.copy()\n",
    "    for k in range(1, K):\n",
    "        time_df = df.loc[: df.index[df.shape[0] - k - 1], region].rename(f'time_{k}_{region}')\n",
    "        time_df.index = df.loc[df.index[k] :].index\n",
    "        df = df.join(time_df)\n",
    "    for k in range(1, K_day):\n",
    "        time_df = df.loc[: df.index[df.shape[0] - 24 * k - 1], region].rename(f'day_{k}_{region}')\n",
    "        time_df.index = df.loc[df.index[24 * k] :].index\n",
    "        df = df.join(time_df)\n",
    "    return df"
   ]
  },
  {
   "cell_type": "code",
   "execution_count": 15,
   "metadata": {},
   "outputs": [],
   "source": [
    "def add_sum_regions(df, region, sum_time):\n",
    "    df = df.copy()\n",
    "    for x in sum_time:\n",
    "        df[f'region_{region}_sum_{x}'] = df.loc[:, region].rolling(x).sum()\n",
    "    return df"
   ]
  },
  {
   "cell_type": "code",
   "execution_count": 16,
   "metadata": {},
   "outputs": [],
   "source": [
    "import json\n",
    "with open('classter_region.json', 'r') as file:\n",
    "    classter_region = json.load(file)"
   ]
  },
  {
   "cell_type": "code",
   "execution_count": 17,
   "metadata": {},
   "outputs": [],
   "source": [
    "best_class_opt = {'claster 0': 78, 'claster 1': 80, 'claster 2': 81, 'claster 3': 78}\n",
    "models = {x: SARIMAXResults.load('_'.join(x.split(' '))) for x in best_class_opt.keys()}\n",
    "models_params = {'claster 0': [7, 1, 6, 0], 'claster 1': [2, 1, 6, 0], 'claster 2': [6, 1, 5, 0], 'claster 3': [5, 1, 5, 0]}"
   ]
  },
  {
   "cell_type": "code",
   "execution_count": 18,
   "metadata": {},
   "outputs": [],
   "source": [
    "df = pd.read_csv('1_week.csv')\n",
    "df['sum_houres'] = df[df.columns[:-5]].sum(axis=1)\n",
    "df['mean_houres'] = df[df.columns[:-6]].mean(axis=1)\n",
    "regions = df[df.mean_houres>5]['region']\n",
    "classter_region = {int(x): classter_region[x] for x in classter_region}"
   ]
  },
  {
   "cell_type": "code",
   "execution_count": 19,
   "metadata": {},
   "outputs": [],
   "source": [
    "data_dir = \"/mnt/sdb1/arima\"\n",
    "data_files = os.listdir(data_dir)  # target files\n",
    "y = np.linspace(-74.25559,-73.70001,51)\n",
    "x = np.linspace(40.49612,40.91553,51)\n",
    "def file_to_df(file):\n",
    "    full_path = os.path.join(data_dir, file)\n",
    "    data = prepare_data(pd.read_csv(full_path, sep=','))\n",
    "    data_by_houres = prepare_time_data(data)\n",
    "    df_by_time = add_time(data_by_houres, data)\n",
    "    return df_by_time"
   ]
  },
  {
   "cell_type": "markdown",
   "metadata": {},
   "source": [
    "# Загружаем и разбиваем выборку на три части"
   ]
  },
  {
   "cell_type": "code",
   "execution_count": 20,
   "metadata": {},
   "outputs": [],
   "source": [
    "scaler = StandardScaler()"
   ]
  },
  {
   "cell_type": "code",
   "execution_count": 21,
   "metadata": {},
   "outputs": [
    {
     "name": "stderr",
     "output_type": "stream",
     "text": [
      "100%|██████████| 744/744 [00:20<00:00, 35.89it/s]\n",
      "100%|██████████| 696/696 [00:20<00:00, 33.86it/s]\n",
      "100%|██████████| 744/744 [00:22<00:00, 32.73it/s]\n",
      "100%|██████████| 720/720 [00:21<00:00, 33.47it/s]\n"
     ]
    }
   ],
   "source": [
    "data_files = data_files[:-2]\n",
    "df_by_time = [file_to_df(i) for i in data_files]\n",
    "prep_seasons, scaler = by_season(df_by_time, data_files, scaler)"
   ]
  },
  {
   "cell_type": "code",
   "execution_count": 22,
   "metadata": {},
   "outputs": [
    {
     "name": "stderr",
     "output_type": "stream",
     "text": [
      "100%|██████████| 744/744 [00:23<00:00, 31.37it/s]\n"
     ]
    }
   ],
   "source": [
    "may = os.listdir(data_dir)[4]\n",
    "data_may = file_to_df(may)\n",
    "test = by_season([data_may], [may], scaler, False)"
   ]
  },
  {
   "cell_type": "code",
   "execution_count": 23,
   "metadata": {},
   "outputs": [
    {
     "name": "stderr",
     "output_type": "stream",
     "text": [
      "100%|██████████| 720/720 [00:21<00:00, 33.14it/s]\n"
     ]
    }
   ],
   "source": [
    "june = os.listdir(data_dir)[5]\n",
    "data_june = file_to_df(june)\n",
    "predict = by_season([data_june], [june], scaler, False)"
   ]
  },
  {
   "cell_type": "code",
   "execution_count": 25,
   "metadata": {},
   "outputs": [],
   "source": [
    "inverse_data = {test.columns[i]: [scaler.mean_[i], scaler.scale_[i]] for i in range(len(test.columns))}\n",
    "# sample_predict = pd.DataFrame(data=np.zeros((715*102*6, 2)), columns=['id', 'y'])"
   ]
  },
  {
   "cell_type": "code",
   "execution_count": 73,
   "metadata": {},
   "outputs": [],
   "source": [
    "best_class_opt = {'claster 0': 78, 'claster 1': 78, 'claster 2': 80, 'claster 3': 81}"
   ]
  },
  {
   "cell_type": "code",
   "execution_count": 24,
   "metadata": {},
   "outputs": [
    {
     "ename": "FileNotFoundError",
     "evalue": "[Errno 2] No such file or directory: 'yellow_tripdata_2016-01.csv'",
     "output_type": "error",
     "traceback": [
      "\u001b[0;31m---------------------------------------------------------------------------\u001b[0m",
      "\u001b[0;31mFileNotFoundError\u001b[0m                         Traceback (most recent call last)",
      "\u001b[0;32m<ipython-input-24-24ab33362057>\u001b[0m in \u001b[0;36m<module>\u001b[0;34m\u001b[0m\n\u001b[0;32m----> 1\u001b[0;31m \u001b[0mpd\u001b[0m\u001b[0;34m.\u001b[0m\u001b[0mread_csv\u001b[0m\u001b[0;34m(\u001b[0m\u001b[0mos\u001b[0m\u001b[0;34m.\u001b[0m\u001b[0mlistdir\u001b[0m\u001b[0;34m(\u001b[0m\u001b[0mdata_dir\u001b[0m\u001b[0;34m)\u001b[0m\u001b[0;34m[\u001b[0m\u001b[0;36m0\u001b[0m\u001b[0;34m]\u001b[0m\u001b[0;34m)\u001b[0m\u001b[0;34m\u001b[0m\u001b[0;34m\u001b[0m\u001b[0m\n\u001b[0m",
      "\u001b[0;32m~/.local/lib/python3.8/site-packages/pandas/io/parsers.py\u001b[0m in \u001b[0;36mread_csv\u001b[0;34m(filepath_or_buffer, sep, delimiter, header, names, index_col, usecols, squeeze, prefix, mangle_dupe_cols, dtype, engine, converters, true_values, false_values, skipinitialspace, skiprows, skipfooter, nrows, na_values, keep_default_na, na_filter, verbose, skip_blank_lines, parse_dates, infer_datetime_format, keep_date_col, date_parser, dayfirst, cache_dates, iterator, chunksize, compression, thousands, decimal, lineterminator, quotechar, quoting, doublequote, escapechar, comment, encoding, dialect, error_bad_lines, warn_bad_lines, delim_whitespace, low_memory, memory_map, float_precision)\u001b[0m\n\u001b[1;32m    686\u001b[0m     )\n\u001b[1;32m    687\u001b[0m \u001b[0;34m\u001b[0m\u001b[0m\n\u001b[0;32m--> 688\u001b[0;31m     \u001b[0;32mreturn\u001b[0m \u001b[0m_read\u001b[0m\u001b[0;34m(\u001b[0m\u001b[0mfilepath_or_buffer\u001b[0m\u001b[0;34m,\u001b[0m \u001b[0mkwds\u001b[0m\u001b[0;34m)\u001b[0m\u001b[0;34m\u001b[0m\u001b[0;34m\u001b[0m\u001b[0m\n\u001b[0m\u001b[1;32m    689\u001b[0m \u001b[0;34m\u001b[0m\u001b[0m\n\u001b[1;32m    690\u001b[0m \u001b[0;34m\u001b[0m\u001b[0m\n",
      "\u001b[0;32m~/.local/lib/python3.8/site-packages/pandas/io/parsers.py\u001b[0m in \u001b[0;36m_read\u001b[0;34m(filepath_or_buffer, kwds)\u001b[0m\n\u001b[1;32m    452\u001b[0m \u001b[0;34m\u001b[0m\u001b[0m\n\u001b[1;32m    453\u001b[0m     \u001b[0;31m# Create the parser.\u001b[0m\u001b[0;34m\u001b[0m\u001b[0;34m\u001b[0m\u001b[0;34m\u001b[0m\u001b[0m\n\u001b[0;32m--> 454\u001b[0;31m     \u001b[0mparser\u001b[0m \u001b[0;34m=\u001b[0m \u001b[0mTextFileReader\u001b[0m\u001b[0;34m(\u001b[0m\u001b[0mfp_or_buf\u001b[0m\u001b[0;34m,\u001b[0m \u001b[0;34m**\u001b[0m\u001b[0mkwds\u001b[0m\u001b[0;34m)\u001b[0m\u001b[0;34m\u001b[0m\u001b[0;34m\u001b[0m\u001b[0m\n\u001b[0m\u001b[1;32m    455\u001b[0m \u001b[0;34m\u001b[0m\u001b[0m\n\u001b[1;32m    456\u001b[0m     \u001b[0;32mif\u001b[0m \u001b[0mchunksize\u001b[0m \u001b[0;32mor\u001b[0m \u001b[0miterator\u001b[0m\u001b[0;34m:\u001b[0m\u001b[0;34m\u001b[0m\u001b[0;34m\u001b[0m\u001b[0m\n",
      "\u001b[0;32m~/.local/lib/python3.8/site-packages/pandas/io/parsers.py\u001b[0m in \u001b[0;36m__init__\u001b[0;34m(self, f, engine, **kwds)\u001b[0m\n\u001b[1;32m    946\u001b[0m             \u001b[0mself\u001b[0m\u001b[0;34m.\u001b[0m\u001b[0moptions\u001b[0m\u001b[0;34m[\u001b[0m\u001b[0;34m\"has_index_names\"\u001b[0m\u001b[0;34m]\u001b[0m \u001b[0;34m=\u001b[0m \u001b[0mkwds\u001b[0m\u001b[0;34m[\u001b[0m\u001b[0;34m\"has_index_names\"\u001b[0m\u001b[0;34m]\u001b[0m\u001b[0;34m\u001b[0m\u001b[0;34m\u001b[0m\u001b[0m\n\u001b[1;32m    947\u001b[0m \u001b[0;34m\u001b[0m\u001b[0m\n\u001b[0;32m--> 948\u001b[0;31m         \u001b[0mself\u001b[0m\u001b[0;34m.\u001b[0m\u001b[0m_make_engine\u001b[0m\u001b[0;34m(\u001b[0m\u001b[0mself\u001b[0m\u001b[0;34m.\u001b[0m\u001b[0mengine\u001b[0m\u001b[0;34m)\u001b[0m\u001b[0;34m\u001b[0m\u001b[0;34m\u001b[0m\u001b[0m\n\u001b[0m\u001b[1;32m    949\u001b[0m \u001b[0;34m\u001b[0m\u001b[0m\n\u001b[1;32m    950\u001b[0m     \u001b[0;32mdef\u001b[0m \u001b[0mclose\u001b[0m\u001b[0;34m(\u001b[0m\u001b[0mself\u001b[0m\u001b[0;34m)\u001b[0m\u001b[0;34m:\u001b[0m\u001b[0;34m\u001b[0m\u001b[0;34m\u001b[0m\u001b[0m\n",
      "\u001b[0;32m~/.local/lib/python3.8/site-packages/pandas/io/parsers.py\u001b[0m in \u001b[0;36m_make_engine\u001b[0;34m(self, engine)\u001b[0m\n\u001b[1;32m   1178\u001b[0m     \u001b[0;32mdef\u001b[0m \u001b[0m_make_engine\u001b[0m\u001b[0;34m(\u001b[0m\u001b[0mself\u001b[0m\u001b[0;34m,\u001b[0m \u001b[0mengine\u001b[0m\u001b[0;34m=\u001b[0m\u001b[0;34m\"c\"\u001b[0m\u001b[0;34m)\u001b[0m\u001b[0;34m:\u001b[0m\u001b[0;34m\u001b[0m\u001b[0;34m\u001b[0m\u001b[0m\n\u001b[1;32m   1179\u001b[0m         \u001b[0;32mif\u001b[0m \u001b[0mengine\u001b[0m \u001b[0;34m==\u001b[0m \u001b[0;34m\"c\"\u001b[0m\u001b[0;34m:\u001b[0m\u001b[0;34m\u001b[0m\u001b[0;34m\u001b[0m\u001b[0m\n\u001b[0;32m-> 1180\u001b[0;31m             \u001b[0mself\u001b[0m\u001b[0;34m.\u001b[0m\u001b[0m_engine\u001b[0m \u001b[0;34m=\u001b[0m \u001b[0mCParserWrapper\u001b[0m\u001b[0;34m(\u001b[0m\u001b[0mself\u001b[0m\u001b[0;34m.\u001b[0m\u001b[0mf\u001b[0m\u001b[0;34m,\u001b[0m \u001b[0;34m**\u001b[0m\u001b[0mself\u001b[0m\u001b[0;34m.\u001b[0m\u001b[0moptions\u001b[0m\u001b[0;34m)\u001b[0m\u001b[0;34m\u001b[0m\u001b[0;34m\u001b[0m\u001b[0m\n\u001b[0m\u001b[1;32m   1181\u001b[0m         \u001b[0;32melse\u001b[0m\u001b[0;34m:\u001b[0m\u001b[0;34m\u001b[0m\u001b[0;34m\u001b[0m\u001b[0m\n\u001b[1;32m   1182\u001b[0m             \u001b[0;32mif\u001b[0m \u001b[0mengine\u001b[0m \u001b[0;34m==\u001b[0m \u001b[0;34m\"python\"\u001b[0m\u001b[0;34m:\u001b[0m\u001b[0;34m\u001b[0m\u001b[0;34m\u001b[0m\u001b[0m\n",
      "\u001b[0;32m~/.local/lib/python3.8/site-packages/pandas/io/parsers.py\u001b[0m in \u001b[0;36m__init__\u001b[0;34m(self, src, **kwds)\u001b[0m\n\u001b[1;32m   2008\u001b[0m         \u001b[0mkwds\u001b[0m\u001b[0;34m[\u001b[0m\u001b[0;34m\"usecols\"\u001b[0m\u001b[0;34m]\u001b[0m \u001b[0;34m=\u001b[0m \u001b[0mself\u001b[0m\u001b[0;34m.\u001b[0m\u001b[0musecols\u001b[0m\u001b[0;34m\u001b[0m\u001b[0;34m\u001b[0m\u001b[0m\n\u001b[1;32m   2009\u001b[0m \u001b[0;34m\u001b[0m\u001b[0m\n\u001b[0;32m-> 2010\u001b[0;31m         \u001b[0mself\u001b[0m\u001b[0;34m.\u001b[0m\u001b[0m_reader\u001b[0m \u001b[0;34m=\u001b[0m \u001b[0mparsers\u001b[0m\u001b[0;34m.\u001b[0m\u001b[0mTextReader\u001b[0m\u001b[0;34m(\u001b[0m\u001b[0msrc\u001b[0m\u001b[0;34m,\u001b[0m \u001b[0;34m**\u001b[0m\u001b[0mkwds\u001b[0m\u001b[0;34m)\u001b[0m\u001b[0;34m\u001b[0m\u001b[0;34m\u001b[0m\u001b[0m\n\u001b[0m\u001b[1;32m   2011\u001b[0m         \u001b[0mself\u001b[0m\u001b[0;34m.\u001b[0m\u001b[0munnamed_cols\u001b[0m \u001b[0;34m=\u001b[0m \u001b[0mself\u001b[0m\u001b[0;34m.\u001b[0m\u001b[0m_reader\u001b[0m\u001b[0;34m.\u001b[0m\u001b[0munnamed_cols\u001b[0m\u001b[0;34m\u001b[0m\u001b[0;34m\u001b[0m\u001b[0m\n\u001b[1;32m   2012\u001b[0m \u001b[0;34m\u001b[0m\u001b[0m\n",
      "\u001b[0;32mpandas/_libs/parsers.pyx\u001b[0m in \u001b[0;36mpandas._libs.parsers.TextReader.__cinit__\u001b[0;34m()\u001b[0m\n",
      "\u001b[0;32mpandas/_libs/parsers.pyx\u001b[0m in \u001b[0;36mpandas._libs.parsers.TextReader._setup_parser_source\u001b[0;34m()\u001b[0m\n",
      "\u001b[0;31mFileNotFoundError\u001b[0m: [Errno 2] No such file or directory: 'yellow_tripdata_2016-01.csv'"
     ]
    }
   ],
   "source": [
    "pd.read_csv(os.listdir(data_dir)[0])"
   ]
  },
  {
   "cell_type": "markdown",
   "metadata": {},
   "source": [
    "# Считаем ошибку на мае"
   ]
  },
  {
   "cell_type": "code",
   "execution_count": 91,
   "metadata": {},
   "outputs": [
    {
     "name": "stderr",
     "output_type": "stream",
     "text": [
      "102it [19:01, 11.19s/it]\n"
     ]
    }
   ],
   "source": [
    "d=1\n",
    "D=0\n",
    "mistake = 0\n",
    "new_sample_predict = pd.DataFrame(columns=['id', 'y'])\n",
    "# predict = pd.concat((test.iloc[-6:], predict))\n",
    "# test = test.iloc[:-6]\n",
    "for time_zone, region in tqdm(enumerate(classter_region.keys())):\n",
    "    split_time = TimeSplit(test.index, 0, 6, 1)\n",
    "    iter_time = iter(split_time)\n",
    "    all_data = pd.concat((prep_seasons, test))\n",
    "    clas = classter_region[region]\n",
    "    param = models_params[f'claster {clas}']\n",
    "    optim = best_class_opt[f'claster {clas}']\n",
    "    X_train = create_add_regreassors(all_data, region, optim)\n",
    "#     X_test = create_add_regreassors(test, region, optim)\n",
    "#     model=sm.tsa.statespace.SARIMAX(all_data[region], order=(param[0], d, param[1]), \n",
    "#                                             seasonal_order=(param[2], D, param[3], 24),\n",
    "#                                     exog=X_train,initialization='approximate_diffuse').fit(disp=-1)\n",
    "    model = models[f'claster {clas}']\n",
    "    all_data = pd.concat((all_data, X_train), axis=1)\n",
    "    all_data = add_sum_regions(all_data, region, [12, 24, 24 * 7, 24 * 30])\n",
    "    all_data = add_td_features(all_data, 7, 3, region)\n",
    "    all_data = add_arima_prediction(all_data, model, X_train.loc[test.index])\n",
    "    all_data = add_time_features(all_data)\n",
    "    all_data.dropna(inplace=True)\n",
    "#     all_data.reset_index(inplace=True)\n",
    "#     all_data.drop('index', axis=1, inplace=True)\n",
    "    for _, i in iter_time:\n",
    "#         new_observation = test[region].loc[i[0]]\n",
    "#         exog_train = X_test.loc[i[0]]\n",
    "        train_data = all_data[all_data.index < i[0]]\n",
    "        forecast_data = all_data.loc[i]\n",
    "        update_res = ElasticNet().fit(train_data.drop(region, axis=1), train_data[region])\n",
    "        forecast = update_res.predict(forecast_data.drop(region, axis=1))\n",
    "#         if len(i[0]) == 0:\n",
    "#             update_res = model\n",
    "#         else:\n",
    "#             update_res = model.append(new_observation, exog=exog_train)\n",
    "#         forecast = update_res.forecast(len(i[1]), exog=exog_test)\n",
    "        mistake += metric(forecast, forecast_data[region].values) * inverse_data[region][1]"
   ]
  },
  {
   "cell_type": "code",
   "execution_count": 92,
   "metadata": {},
   "outputs": [
    {
     "data": {
      "text/plain": [
       "46.53420215977376"
      ]
     },
     "execution_count": 92,
     "metadata": {},
     "output_type": "execute_result"
    }
   ],
   "source": [
    "mistake/len(classter_region.keys())/739/6"
   ]
  },
  {
   "cell_type": "markdown",
   "metadata": {},
   "source": [
    "# Делаем предикт"
   ]
  },
  {
   "cell_type": "code",
   "execution_count": 131,
   "metadata": {},
   "outputs": [
    {
     "name": "stderr",
     "output_type": "stream",
     "text": [
      "102it [29:53, 17.59s/it]\n"
     ]
    }
   ],
   "source": [
    "d=1\n",
    "D=0\n",
    "mistake = 0\n",
    "new_sample_predict = pd.DataFrame(columns=['id', 'y'])\n",
    "# predict = pd.concat((test.iloc[-6:], predict))\n",
    "# test = test.iloc[:-6]\n",
    "for time_zone, region in tqdm(enumerate(classter_region.keys())):\n",
    "    split_time = TimeSplit(predict.index, 0, 6, 1)\n",
    "    iter_time = iter(split_time)\n",
    "    all_data = pd.concat((prep_seasons, test, predict))\n",
    "    clas = classter_region[region]\n",
    "    param = models_params[f'claster {clas}']\n",
    "    optim = best_class_opt[f'claster {clas}']\n",
    "    X_train = create_add_regreassors(all_data, region, optim)\n",
    "#     X_test = create_add_regreassors(test, region, optim)\n",
    "#     model=sm.tsa.statespace.SARIMAX(all_data[region], order=(param[0], d, param[1]), \n",
    "#                                             seasonal_order=(param[2], D, param[3], 24),\n",
    "#                                     exog=X_train,initialization='approximate_diffuse').fit(disp=-1)\n",
    "    model = models[f'claster {clas}']\n",
    "    all_data = pd.concat((all_data, X_train), axis=1)\n",
    "    all_data = add_sum_regions(all_data, region, [12, 24, 24 * 7, 24 * 30])\n",
    "    all_data = add_td_features(all_data, 7, 3, region)\n",
    "    all_data = add_arima_prediction(all_data, model, X_train.loc[pd.concat((test, predict)).index])\n",
    "    all_data = add_time_features(all_data)\n",
    "    all_data.dropna(inplace=True)\n",
    "#     all_data.reset_index(inplace=True)\n",
    "#     all_data.drop('index', axis=1, inplace=True)\n",
    "    for _, i in iter_time:\n",
    "#         new_observation = test[region].loc[i[0]]\n",
    "#         exog_train = X_test.loc[i[0]]\n",
    "        train_data = all_data[all_data.index < i[0]]\n",
    "        forecast_data = all_data.loc[i]\n",
    "        update_res = ElasticNet().fit(train_data.drop(region, axis=1), train_data[region])\n",
    "        forecast = update_res.predict(forecast_data.drop(region, axis=1))\n",
    "        forecast = forecast * inverse_data[region][1] + inverse_data[region][0]\n",
    "        forecast = pd.DataFrame({region: forecast}, index = forecast_data.index)\n",
    "        forecast = forecast[(forecast.index >= pd.to_datetime(\"31-5-16 23\")) & (forecast.index <= pd.to_datetime(\"30-6-16 17\"))]\n",
    "        forecast.index = [f\"{region}_{str(x).split(' ')[0]}_{x.hour}\" \n",
    "                                                 for x in (forecast.index)]\n",
    "        new_sample_predict = pd.concat((new_sample_predict, pd.DataFrame({'id': forecast.index,'y': forecast[region].values})))\n",
    "#         if len(i[0]) == 0:\n",
    "#             update_res = model\n",
    "#         else:\n",
    "#             update_res = model.append(new_observation, exog=exog_train)\n",
    "#         forecast = update_res.forecast(len(i[1]), exog=exog_test)\n",
    "#         mistake += metric(forecast, forecast_data[region].values) * inverse_data[region][1]"
   ]
  },
  {
   "cell_type": "code",
   "execution_count": 132,
   "metadata": {},
   "outputs": [],
   "source": [
    "new_sample_predict = new_sample_predict.sort_values('id')\n",
    "new_sample_predict['id'] = [f'{x}_{z%6 + 1}' for z, x in enumerate(new_sample_predict['id'])]\n",
    "new_sample_predict.to_csv('predict_5.csv', index=False)"
   ]
  },
  {
   "attachments": {
    "5ab28ba0-3bed-4bf6-a16e-320e73e93a32.png": {
     "image/png": "[encoded data removed]"
    }
   },
   "cell_type": "markdown",
   "metadata": {},
   "source": [
    "![image.png](attachment:5ab28ba0-3bed-4bf6-a16e-320e73e93a32.png)"
   ]
  },
  {
   "cell_type": "code",
   "execution_count": null,
   "metadata": {},
   "outputs": [],
   "source": []
  }
 ],
 "metadata": {
  "kernelspec": {
   "display_name": "Python 3",
   "language": "python",
   "name": "python3"
  },
  "language_info": {
   "codemirror_mode": {
    "name": "ipython",
    "version": 3
   },
   "file_extension": ".py",
   "mimetype": "text/x-python",
   "name": "python",
   "nbconvert_exporter": "python",
   "pygments_lexer": "ipython3",
   "version": "3.8.5"
  }
 },
 "nbformat": 4,
 "nbformat_minor": 4
}
