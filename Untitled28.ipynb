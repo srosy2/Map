{
 "cells": [
  {
   "cell_type": "code",
   "execution_count": 1,
   "metadata": {},
   "outputs": [
    {
     "name": "stdout",
     "output_type": "stream",
     "text": [
      "Populating the interactive namespace from numpy and matplotlib\n"
     ]
    },
    {
     "name": "stderr",
     "output_type": "stream",
     "text": [
      "/home/vladislav/.local/lib/python3.8/site-packages/IPython/core/magics/pylab.py:159: UserWarning: pylab import has clobbered these variables: ['floor', 'datetime', 'ceil']\n",
      "`%matplotlib` prevents importing * from pylab and numpy\n",
      "  warn(\"pylab import has clobbered these variables: %s\"  % clobbered +\n"
     ]
    }
   ],
   "source": [
    "from os import chdir, listdir\n",
    "import os\n",
    "import re\n",
    "from datetime import datetime, timedelta\n",
    "import numpy as np\n",
    "from math import ceil, floor\n",
    "from sklearn.preprocessing import StandardScaler\n",
    "from sklearn.linear_model import LinearRegression\n",
    "from tqdm import tqdm\n",
    "%pylab inline\n",
    "import pandas as pd\n",
    "from scipy import stats\n",
    "import statsmodels.api as sm\n",
    "import matplotlib.pyplot as plt\n",
    "import warnings\n",
    "from itertools import product\n",
    "from sklearn.cluster import KMeans\n",
    "from scipy.cluster.hierarchy import dendrogram, linkage, fcluster\n",
    "from sklearn.metrics import mean_squared_error\n",
    "from sklearn.linear_model import ElasticNet\n",
    "from IPython.core.debugger import set_trace, Tracer\n",
    "import json\n",
    "from statsmodels.tsa.statespace.sarimax import SARIMAXResults\n",
    "%matplotlib inline"
   ]
  },
  {
   "cell_type": "code",
   "execution_count": 2,
   "metadata": {},
   "outputs": [],
   "source": [
    "y_del = np.linspace(-74.25559,-73.70001,51)\n",
    "x_del = np.linspace(40.49612,40.91553,51)"
   ]
  },
  {
   "cell_type": "code",
   "execution_count": 3,
   "metadata": {},
   "outputs": [],
   "source": [
    "import pandas as pd\n",
    "from scipy.stats import binned_statistic_2d\n",
    "import numpy as np\n",
    "from tqdm import tqdm\n",
    "import seaborn as sns\n",
    "import matplotlib.pyplot as plt\n",
    "from pylab import rcParams\n",
    "rcParams['figure.figsize'] = 25, 10\n",
    "sns.set()"
   ]
  },
  {
   "cell_type": "code",
   "execution_count": 4,
   "metadata": {},
   "outputs": [],
   "source": [
    "from statsmodels.tsa.statespace.sarimax import SARIMAXResults"
   ]
  },
  {
   "cell_type": "code",
   "execution_count": 5,
   "metadata": {},
   "outputs": [],
   "source": [
    "def prepare_data(df):\n",
    "    y_del = np.linspace(-74.25559,-73.70001,51)\n",
    "    x_del = np.linspace(40.49612,40.91553,51)\n",
    "    df = df.copy()\n",
    "    df.drop(df.loc[df['tpep_pickup_datetime'] == df['tpep_dropoff_datetime']].index.values, inplace=True)\n",
    "    df.drop(df[df['passenger_count']==0].index, inplace=True)\n",
    "    df.drop(df[df['trip_distance']==0].index, inplace=True)\n",
    "    df.drop(df[(df['pickup_longitude']<-74.25559) | (df['pickup_longitude']>-73.70001) | (df['pickup_latitude']<40.49612) | (df['pickup_latitude']>40.91553)].index,inplace=True)\n",
    "#     time = pd.DatetimeIndex(df['tpep_pickup_datetime'])\n",
    "#     df['Hours'] = time.day*24 + time.hour\n",
    "    df['Hours'] = df['tpep_pickup_datetime'].apply(lambda x: datetime.datetime.strptime(x[:-6], '%Y-%m-%d %H'))\n",
    "    df['walk_time'] = (pd.to_datetime(df['tpep_dropoff_datetime']) - pd.to_datetime(df['tpep_pickup_datetime']))\n",
    "    df['walk_time'] = df['walk_time'].apply(lambda x: x.days*24*3600 + x.seconds)\n",
    "    df['cross_region'] = df['pickup_longitude'].apply(lambda x: [x]) + df['pickup_latitude'].apply(lambda x: [x]) \\\n",
    "    + df['dropoff_longitude'].apply(lambda x: [x]) + df['dropoff_latitude'].apply(lambda x: [x])\n",
    "    df['cross_region'] = df['cross_region'].apply(lambda x: len(x_del[x[2] > x_del[x[0] < x_del]]) + len(y_del[x[3] > y_del[x[1] < y_del]]))\n",
    "    return df"
   ]
  },
  {
   "cell_type": "code",
   "execution_count": 6,
   "metadata": {},
   "outputs": [],
   "source": [
    "# np.linspace(-74.25559,-73.70001,51)"
   ]
  },
  {
   "cell_type": "code",
   "execution_count": 7,
   "metadata": {},
   "outputs": [],
   "source": [
    "def add_time(func):\n",
    "    def wrapper(*args, **kwargs): \n",
    "        time_array = func(*args, **kwargs).copy()\n",
    "        time_region = pd.DataFrame()\n",
    "        houres = sorted(list(set(args[0]['Hours'])))\n",
    "        for i in range(int(time_array.shape[0]/50)):\n",
    "            time_region[houres[i]] = time_array[i*50:(i+1)*50].reshape(-1)\n",
    "        return time_region\n",
    "    return wrapper"
   ]
  },
  {
   "cell_type": "code",
   "execution_count": 8,
   "metadata": {},
   "outputs": [],
   "source": [
    "@add_time\n",
    "def prepare_time_data(df):\n",
    "    df= df.copy()\n",
    "    y = np.linspace(-74.25559,-73.70001,51)\n",
    "    x = np.linspace(40.49612,40.91553,51)\n",
    "    time_array = np.array([])\n",
    "    for i in tqdm(sorted(list(set(df['Hours'])))):\n",
    "        new_x = df[df['Hours']==i]['pickup_latitude'].values\n",
    "        new_y = df[df['Hours']==i]['pickup_longitude'].values\n",
    "        score = binned_statistic_2d(new_y,new_x,None,'count',bins=[y,x]).statistic\n",
    "        if time_array.size==0:\n",
    "            time_array=score\n",
    "        else:\n",
    "            time_array = np.vstack((time_array,score))\n",
    "    return time_array"
   ]
  },
  {
   "cell_type": "code",
   "execution_count": 9,
   "metadata": {},
   "outputs": [],
   "source": [
    "class TimeSplit:\n",
    "    def __init__(self, time_series, start, period, step):\n",
    "        self.period = period\n",
    "        self.start = start\n",
    "        self.step = step\n",
    "        self.time = time_series\n",
    "        \n",
    "    def __iter__(self):\n",
    "        return self\n",
    "        \n",
    "    def __next__(self):\n",
    "        self.time_train = self.time[: self.start]\n",
    "        self.time_predict = self.time[self.start : self.start + self.period]\n",
    "        self.start += 1\n",
    "        if len(self.time_predict) == 6:\n",
    "            return self.time_train, self.time_predict\n",
    "        else:\n",
    "            raise StopIteration"
   ]
  },
  {
   "cell_type": "code",
   "execution_count": 10,
   "metadata": {},
   "outputs": [],
   "source": [
    "def diff_model(df, diff, feature):\n",
    "    df = df.copy()\n",
    "    for i in diff:\n",
    "        df[feature] = df[feature] - df[feature].shift(i)\n",
    "    return df"
   ]
  },
  {
   "cell_type": "code",
   "execution_count": 11,
   "metadata": {},
   "outputs": [],
   "source": [
    "# [5, 3, 1, 5].index(5)"
   ]
  },
  {
   "cell_type": "code",
   "execution_count": 12,
   "metadata": {},
   "outputs": [],
   "source": [
    "def prepare_rows(df, feature):\n",
    "    df = df.copy()\n",
    "    \n",
    "    index = np.array(list(map(lambda x: x.split('_')[0], df.index)))\n",
    "    index_feature = np.array(list(map(lambda x: '_'.join(x.split('_')[1:]), df.index)))\n",
    "    index = index[index_feature == feature]\n",
    "    \n",
    "    df.index = index_feature\n",
    "    df = df.loc[feature]\n",
    "    df.index = index\n",
    "    \n",
    "    columns = df.columns\n",
    "    \n",
    "    if feature != 'pickup_longitude':\n",
    "        columns = list(map(lambda x: f'{x}_{feature}', df.columns))\n",
    "#     Tracer()()\n",
    "    \n",
    "    df.columns = columns\n",
    "    \n",
    "    return df"
   ]
  },
  {
   "cell_type": "code",
   "execution_count": 13,
   "metadata": {},
   "outputs": [],
   "source": [
    "# pd.concat((pd.DataFrame([]), prep_seasons), axis=1)"
   ]
  },
  {
   "cell_type": "code",
   "execution_count": 14,
   "metadata": {},
   "outputs": [],
   "source": [
    "# '_'.join(prep_seasons.index[0].split('_')[1:])"
   ]
  },
  {
   "cell_type": "code",
   "execution_count": 15,
   "metadata": {},
   "outputs": [],
   "source": [
    "def by_season(data, files, model, features, fit=True):\n",
    "    cars = [x.loc[region] for x in data for region in range(2500)]\n",
    "    \n",
    "    seasons = [pd.concat(tuple([cars[j*int(len(cars)/len(files))+i] for j in range(len(files))])) for i in range(2500)]\n",
    "    seasons = pd.concat(tuple(seasons[i] for i in range(len(seasons))),axis=1)\n",
    "    \n",
    "    seasons.columns = [x for x in range(1,2501)]\n",
    "    seasons = seasons[regions.values]\n",
    "    \n",
    "#     Tracer()()\n",
    "    \n",
    "    new_seasons = pd.DataFrame([])\n",
    "    \n",
    "    for feat in features.keys():\n",
    "        season = prepare_rows(seasons, feat)\n",
    "        new_seasons = pd.concat((new_seasons, season), axis=1)\n",
    "        \n",
    "    \n",
    "    if fit:\n",
    "        prep_seasons = pd.DataFrame(data=model.fit_transform(new_seasons),\n",
    "                                    columns=new_seasons.columns, index=pd.to_datetime(new_seasons.index))\n",
    "        return prep_seasons, model\n",
    "    \n",
    "    else:\n",
    "        prep_seasons = pd.DataFrame(data=model.transform(new_seasons),\n",
    "                                    columns=new_seasons.columns, index=pd.to_datetime(new_seasons.index))\n",
    "        return prep_seasons"
   ]
  },
  {
   "cell_type": "code",
   "execution_count": 16,
   "metadata": {},
   "outputs": [],
   "source": [
    "def create_add_regreassors(df, region, optim):\n",
    "    time_series = pd.DataFrame(df[region])\n",
    "    ols_data = time_series.copy()\n",
    "    for i in range(1, optim+1):        \n",
    "        ols_data['s_'+str(i)] = np.sin(np.arange(1, time_series.shape[0]+1)*2*np.pi*i/168)\n",
    "        ols_data['c_'+str(i)] = np.cos(np.arange(1, time_series.shape[0]+1)*2*np.pi*i/168)\n",
    "    X = ols_data.loc[:, 's_1':]\n",
    "    return X"
   ]
  },
  {
   "cell_type": "code",
   "execution_count": 17,
   "metadata": {},
   "outputs": [],
   "source": [
    "def metric(ground_truth: pd.DataFrame, predict: pd.DataFrame):\n",
    "    return sum(abs(ground_truth - predict))"
   ]
  },
  {
   "cell_type": "code",
   "execution_count": 18,
   "metadata": {},
   "outputs": [],
   "source": [
    "def add_time_features(df):\n",
    "    df = df.copy()\n",
    "    df['month'] = df.index.month\n",
    "    df['day'] = df.index.day\n",
    "    df['hour'] = df.index.hour\n",
    "    return df"
   ]
  },
  {
   "cell_type": "code",
   "execution_count": 19,
   "metadata": {},
   "outputs": [],
   "source": [
    "def add_arima_prediction(df, model, exog):\n",
    "    df = df.copy()\n",
    "    df['arima_predict'] = model.predict(start=df.index[0], end=df.index[-1], exog=exog)\n",
    "    return df"
   ]
  },
  {
   "cell_type": "code",
   "execution_count": 20,
   "metadata": {},
   "outputs": [],
   "source": [
    "def add_td_features(df, K, K_day, region):\n",
    "    df = df.copy()\n",
    "    for k in range(1, K):\n",
    "        time_df = df.loc[: df.index[df.shape[0] - k - 1], region].rename(f'time_{k}_{region}')\n",
    "        time_df.index = df.loc[df.index[k] :].index\n",
    "        df = df.join(time_df)\n",
    "    for k in range(1, K_day):\n",
    "        time_df = df.loc[: df.index[df.shape[0] - 24 * k - 1], region].rename(f'day_{k}_{region}')\n",
    "        time_df.index = df.loc[df.index[24 * k] :].index\n",
    "        df = df.join(time_df)\n",
    "    return df"
   ]
  },
  {
   "cell_type": "code",
   "execution_count": 21,
   "metadata": {},
   "outputs": [],
   "source": [
    "def add_sum_regions(df, region, sum_time):\n",
    "    df = df.copy()\n",
    "    for x in sum_time:\n",
    "        df[f'region_{region}_sum_{x}'] = df.loc[:, region].rolling(x).sum()\n",
    "    return df"
   ]
  },
  {
   "cell_type": "code",
   "execution_count": 22,
   "metadata": {},
   "outputs": [],
   "source": [
    "@add_time\n",
    "def add_new_time_data(df, feature, method):\n",
    "    df= df.copy()\n",
    "    y = np.linspace(-74.25559,-73.70001,51)\n",
    "    x = np.linspace(40.49612,40.91553,51)\n",
    "    time_array = np.array([])\n",
    "    for i in tqdm(sorted(list(set(df['Hours'])))):\n",
    "        new_x = df[df['Hours']==i]['pickup_latitude'].values\n",
    "        new_y = df[df['Hours']==i]['pickup_longitude'].values\n",
    "        z = df[df['Hours']==i][feature].values\n",
    "        score = binned_statistic_2d(new_y,new_x,z,method,bins=[y,x]).statistic\n",
    "        score[isnan(score)] = 0\n",
    "        if time_array.size==0:\n",
    "            time_array=score\n",
    "        else:\n",
    "            time_array = np.vstack((time_array,score))\n",
    "    return time_array"
   ]
  },
  {
   "cell_type": "code",
   "execution_count": 23,
   "metadata": {},
   "outputs": [],
   "source": [
    "import json\n",
    "with open('classter_region.json', 'r') as file:\n",
    "    classter_region = json.load(file)"
   ]
  },
  {
   "cell_type": "code",
   "execution_count": 24,
   "metadata": {},
   "outputs": [],
   "source": [
    "best_class_opt = {'claster 0': 78, 'claster 1': 80, 'claster 2': 81, 'claster 3': 78}\n",
    "models = {x: SARIMAXResults.load('_'.join(x.split(' '))) for x in best_class_opt.keys()}\n",
    "models_params = {'claster 0': [7, 1, 6, 0], 'claster 1': [2, 1, 6, 0], 'claster 2': [6, 1, 5, 0], 'claster 3': [5, 1, 5, 0]}"
   ]
  },
  {
   "cell_type": "code",
   "execution_count": 25,
   "metadata": {},
   "outputs": [],
   "source": [
    "df = pd.read_csv('1_week.csv')\n",
    "df['sum_houres'] = df[df.columns[:-5]].sum(axis=1)\n",
    "df['mean_houres'] = df[df.columns[:-6]].mean(axis=1)\n",
    "regions = df[df.mean_houres>5]['region']\n",
    "classter_region = {int(x): classter_region[x] for x in classter_region}"
   ]
  },
  {
   "cell_type": "code",
   "execution_count": 26,
   "metadata": {},
   "outputs": [],
   "source": [
    "data_dir = \"/mnt/sdb1/arima\"\n",
    "data_files = os.listdir(data_dir)  # target files\n",
    "y = np.linspace(-74.25559,-73.70001,51)\n",
    "x = np.linspace(40.49612,40.91553,51)\n",
    "features = {'pickup_longitude': 'count',\n",
    "            'passenger_count': 'mean',\n",
    "           'trip_distance': 'mean',\n",
    "            'total_amount': 'mean',\n",
    "            'walk_time': 'mean',\n",
    "            'payment_type': lambda z: len(set(z)),\n",
    "            'VendorID': lambda z: len(set(z)),\n",
    "            'RatecodeID': lambda z: len(set(z)),\n",
    "            'cross_region': 'sum'\n",
    "           }\n",
    "def file_to_df(file):\n",
    "    full_path = os.path.join(data_dir, file)\n",
    "    data = prepare_data(pd.read_csv(full_path, sep=','))\n",
    "    df_by_time = pd.DataFrame([])\n",
    "#     data_by_houres = prepare_time_data(data)\n",
    "#     df_by_time = add_time(data_by_houres, data)\n",
    "#     df_by_time = prepare_time_data(data)\n",
    "    for x in features:\n",
    "        new_df = add_new_time_data(data, x, features[x])\n",
    "        new_df.columns = [\"{}_{}\".format(col, x) for col in new_df.columns]\n",
    "        df_by_time = pd.concat((df_by_time, new_df), axis=1)\n",
    "    return df_by_time"
   ]
  },
  {
   "cell_type": "code",
   "execution_count": 27,
   "metadata": {},
   "outputs": [],
   "source": [
    "# for x in features:\n",
    "#     print(x)"
   ]
  },
  {
   "cell_type": "code",
   "execution_count": 28,
   "metadata": {},
   "outputs": [],
   "source": [
    "# new_features"
   ]
  },
  {
   "cell_type": "code",
   "execution_count": 29,
   "metadata": {},
   "outputs": [],
   "source": [
    "scaler = StandardScaler()"
   ]
  },
  {
   "cell_type": "code",
   "execution_count": 30,
   "metadata": {},
   "outputs": [],
   "source": [
    "# data_files"
   ]
  },
  {
   "cell_type": "code",
   "execution_count": 31,
   "metadata": {},
   "outputs": [],
   "source": [
    "# df_by_time"
   ]
  },
  {
   "cell_type": "code",
   "execution_count": 32,
   "metadata": {},
   "outputs": [
    {
     "name": "stderr",
     "output_type": "stream",
     "text": [
      "100%|██████████| 744/744 [00:31<00:00, 23.69it/s]\n",
      "100%|██████████| 744/744 [00:31<00:00, 23.53it/s]\n",
      "100%|██████████| 744/744 [00:31<00:00, 23.39it/s]\n",
      "100%|██████████| 744/744 [00:31<00:00, 23.63it/s]\n",
      "100%|██████████| 744/744 [00:31<00:00, 23.66it/s]\n",
      "100%|██████████| 744/744 [00:35<00:00, 20.76it/s]\n",
      "100%|██████████| 744/744 [00:35<00:00, 21.09it/s]\n",
      "100%|██████████| 744/744 [00:35<00:00, 21.10it/s]\n",
      "100%|██████████| 744/744 [00:31<00:00, 23.38it/s]\n",
      "100%|██████████| 696/696 [00:30<00:00, 22.49it/s]\n",
      "100%|██████████| 696/696 [00:30<00:00, 22.71it/s]\n",
      "100%|██████████| 696/696 [00:30<00:00, 23.01it/s]\n",
      "100%|██████████| 696/696 [00:31<00:00, 22.30it/s]\n",
      "100%|██████████| 696/696 [00:30<00:00, 22.84it/s]\n",
      "100%|██████████| 696/696 [00:35<00:00, 19.51it/s]\n",
      "100%|██████████| 696/696 [00:35<00:00, 19.42it/s]\n",
      "100%|██████████| 696/696 [00:36<00:00, 19.28it/s]\n",
      "100%|██████████| 696/696 [00:30<00:00, 22.53it/s]\n",
      "100%|██████████| 744/744 [00:34<00:00, 21.69it/s]\n",
      "100%|██████████| 744/744 [00:33<00:00, 22.02it/s]\n",
      "100%|██████████| 744/744 [00:33<00:00, 22.21it/s]\n",
      "100%|██████████| 744/744 [00:33<00:00, 22.03it/s]\n",
      "100%|██████████| 744/744 [00:34<00:00, 21.82it/s]\n",
      "100%|██████████| 744/744 [00:39<00:00, 19.03it/s]\n",
      "100%|██████████| 744/744 [00:39<00:00, 18.89it/s]\n",
      "100%|██████████| 744/744 [00:39<00:00, 18.74it/s]\n",
      "100%|██████████| 744/744 [00:34<00:00, 21.75it/s]\n",
      "100%|██████████| 720/720 [00:32<00:00, 22.14it/s]\n",
      "100%|██████████| 720/720 [00:32<00:00, 22.18it/s]\n",
      "100%|██████████| 720/720 [00:32<00:00, 22.17it/s]\n",
      "100%|██████████| 720/720 [00:32<00:00, 22.18it/s]\n",
      "100%|██████████| 720/720 [00:32<00:00, 21.97it/s]\n",
      "100%|██████████| 720/720 [00:37<00:00, 19.02it/s]\n",
      "100%|██████████| 720/720 [00:37<00:00, 19.31it/s]\n",
      "100%|██████████| 720/720 [00:37<00:00, 19.24it/s]\n",
      "100%|██████████| 720/720 [00:32<00:00, 22.29it/s]\n"
     ]
    }
   ],
   "source": [
    "data_files = data_files[:-2]\n",
    "df_by_time = [file_to_df(i) for i in data_files]\n",
    "prep_seasons, scaler = by_season(df_by_time, data_files, scaler, features)"
   ]
  },
  {
   "cell_type": "code",
   "execution_count": 33,
   "metadata": {},
   "outputs": [],
   "source": [
    "# prep_seasons.index"
   ]
  },
  {
   "cell_type": "code",
   "execution_count": 34,
   "metadata": {},
   "outputs": [
    {
     "name": "stderr",
     "output_type": "stream",
     "text": [
      "100%|██████████| 744/744 [00:33<00:00, 22.28it/s]\n",
      "100%|██████████| 744/744 [00:33<00:00, 22.32it/s]\n",
      "100%|██████████| 744/744 [00:33<00:00, 22.28it/s]\n",
      "100%|██████████| 744/744 [00:33<00:00, 22.35it/s]\n",
      "100%|██████████| 744/744 [00:33<00:00, 22.33it/s]\n",
      "100%|██████████| 744/744 [00:38<00:00, 19.23it/s]\n",
      "100%|██████████| 744/744 [00:38<00:00, 19.11it/s]\n",
      "100%|██████████| 744/744 [00:38<00:00, 19.24it/s]\n",
      "100%|██████████| 744/744 [00:33<00:00, 22.32it/s]\n"
     ]
    }
   ],
   "source": [
    "may = os.listdir(data_dir)[4]\n",
    "data_may = file_to_df(may)\n",
    "test = by_season([data_may], [may], scaler, features, False)"
   ]
  },
  {
   "cell_type": "code",
   "execution_count": 35,
   "metadata": {},
   "outputs": [
    {
     "name": "stderr",
     "output_type": "stream",
     "text": [
      "100%|██████████| 720/720 [00:29<00:00, 24.07it/s]\n",
      "100%|██████████| 720/720 [00:29<00:00, 24.05it/s]\n",
      "100%|██████████| 720/720 [00:30<00:00, 23.86it/s]\n",
      "100%|██████████| 720/720 [00:30<00:00, 23.97it/s]\n",
      "100%|██████████| 720/720 [00:30<00:00, 23.96it/s]\n",
      "100%|██████████| 720/720 [00:34<00:00, 20.65it/s]\n",
      "100%|██████████| 720/720 [00:34<00:00, 20.76it/s]\n",
      "100%|██████████| 720/720 [00:34<00:00, 20.68it/s]\n",
      "100%|██████████| 720/720 [00:29<00:00, 24.03it/s]\n"
     ]
    }
   ],
   "source": [
    "june = os.listdir(data_dir)[5]\n",
    "data_june = file_to_df(june)\n",
    "predict = by_season([data_june], [june], scaler, features, False)"
   ]
  },
  {
   "cell_type": "code",
   "execution_count": 36,
   "metadata": {},
   "outputs": [],
   "source": [
    "inverse_data = {test.columns[i]: [scaler.mean_[i], scaler.scale_[i]] for i in range(len(test.columns))}"
   ]
  },
  {
   "cell_type": "code",
   "execution_count": 37,
   "metadata": {},
   "outputs": [],
   "source": [
    "best_class_opt = {'claster 0': 78, 'claster 1': 78, 'claster 2': 80, 'claster 3': 81}"
   ]
  },
  {
   "cell_type": "code",
   "execution_count": 38,
   "metadata": {},
   "outputs": [],
   "source": [
    "# classter_region.keys()"
   ]
  },
  {
   "attachments": {
    "c49917d8-3ce1-47aa-8850-512bafe5df84.png": {
     "image/png": "[encoded data removed]"
    }
   },
   "cell_type": "markdown",
   "metadata": {},
   "source": [
    "# 1 Задание\n",
    "## Ошибка 5 недели на мае\n",
    "![image.png](attachment:c49917d8-3ce1-47aa-8850-512bafe5df84.png)"
   ]
  },
  {
   "cell_type": "markdown",
   "metadata": {},
   "source": [
    "# 2 Задание\n",
    "## Новые признаки"
   ]
  },
  {
   "cell_type": "code",
   "execution_count": 39,
   "metadata": {},
   "outputs": [
    {
     "data": {
      "text/html": [
       "<div>\n",
       "<style scoped>\n",
       "    .dataframe tbody tr th:only-of-type {\n",
       "        vertical-align: middle;\n",
       "    }\n",
       "\n",
       "    .dataframe tbody tr th {\n",
       "        vertical-align: top;\n",
       "    }\n",
       "\n",
       "    .dataframe thead th {\n",
       "        text-align: right;\n",
       "    }\n",
       "</style>\n",
       "<table border=\"1\" class=\"dataframe\">\n",
       "  <thead>\n",
       "    <tr style=\"text-align: right;\">\n",
       "      <th></th>\n",
       "      <th>1075</th>\n",
       "      <th>1076</th>\n",
       "      <th>1077</th>\n",
       "      <th>1125</th>\n",
       "      <th>1126</th>\n",
       "      <th>1127</th>\n",
       "      <th>1128</th>\n",
       "      <th>1129</th>\n",
       "      <th>1130</th>\n",
       "      <th>1131</th>\n",
       "      <th>...</th>\n",
       "      <th>1630_cross_region</th>\n",
       "      <th>1684_cross_region</th>\n",
       "      <th>1733_cross_region</th>\n",
       "      <th>1734_cross_region</th>\n",
       "      <th>1783_cross_region</th>\n",
       "      <th>2068_cross_region</th>\n",
       "      <th>2069_cross_region</th>\n",
       "      <th>2118_cross_region</th>\n",
       "      <th>2119_cross_region</th>\n",
       "      <th>2168_cross_region</th>\n",
       "    </tr>\n",
       "  </thead>\n",
       "  <tbody>\n",
       "    <tr>\n",
       "      <th>2016-01-01 00:00:00</th>\n",
       "      <td>0.534333</td>\n",
       "      <td>0.178299</td>\n",
       "      <td>-0.565388</td>\n",
       "      <td>0.271055</td>\n",
       "      <td>1.423610</td>\n",
       "      <td>0.941333</td>\n",
       "      <td>1.327688</td>\n",
       "      <td>1.324958</td>\n",
       "      <td>1.906912</td>\n",
       "      <td>1.834977</td>\n",
       "      <td>...</td>\n",
       "      <td>0.0</td>\n",
       "      <td>0.0</td>\n",
       "      <td>0.0</td>\n",
       "      <td>0.0</td>\n",
       "      <td>0.0</td>\n",
       "      <td>0.0</td>\n",
       "      <td>0.0</td>\n",
       "      <td>0.0</td>\n",
       "      <td>0.0</td>\n",
       "      <td>0.0</td>\n",
       "    </tr>\n",
       "    <tr>\n",
       "      <th>2016-01-01 01:00:00</th>\n",
       "      <td>0.823393</td>\n",
       "      <td>1.005639</td>\n",
       "      <td>-0.582598</td>\n",
       "      <td>1.673853</td>\n",
       "      <td>2.292927</td>\n",
       "      <td>1.069294</td>\n",
       "      <td>0.407607</td>\n",
       "      <td>0.529828</td>\n",
       "      <td>0.846918</td>\n",
       "      <td>1.255230</td>\n",
       "      <td>...</td>\n",
       "      <td>0.0</td>\n",
       "      <td>0.0</td>\n",
       "      <td>0.0</td>\n",
       "      <td>0.0</td>\n",
       "      <td>0.0</td>\n",
       "      <td>0.0</td>\n",
       "      <td>0.0</td>\n",
       "      <td>0.0</td>\n",
       "      <td>0.0</td>\n",
       "      <td>0.0</td>\n",
       "    </tr>\n",
       "    <tr>\n",
       "      <th>2016-01-01 02:00:00</th>\n",
       "      <td>0.797115</td>\n",
       "      <td>0.202995</td>\n",
       "      <td>-1.030077</td>\n",
       "      <td>1.083201</td>\n",
       "      <td>2.180427</td>\n",
       "      <td>1.104839</td>\n",
       "      <td>0.081865</td>\n",
       "      <td>0.108021</td>\n",
       "      <td>-0.065856</td>\n",
       "      <td>0.095738</td>\n",
       "      <td>...</td>\n",
       "      <td>0.0</td>\n",
       "      <td>0.0</td>\n",
       "      <td>0.0</td>\n",
       "      <td>0.0</td>\n",
       "      <td>0.0</td>\n",
       "      <td>0.0</td>\n",
       "      <td>0.0</td>\n",
       "      <td>0.0</td>\n",
       "      <td>0.0</td>\n",
       "      <td>0.0</td>\n",
       "    </tr>\n",
       "    <tr>\n",
       "      <th>2016-01-01 03:00:00</th>\n",
       "      <td>-0.727022</td>\n",
       "      <td>-0.525558</td>\n",
       "      <td>-1.150552</td>\n",
       "      <td>-0.098103</td>\n",
       "      <td>0.738384</td>\n",
       "      <td>0.920006</td>\n",
       "      <td>0.144727</td>\n",
       "      <td>-0.168335</td>\n",
       "      <td>-0.276172</td>\n",
       "      <td>0.473247</td>\n",
       "      <td>...</td>\n",
       "      <td>0.0</td>\n",
       "      <td>0.0</td>\n",
       "      <td>0.0</td>\n",
       "      <td>0.0</td>\n",
       "      <td>0.0</td>\n",
       "      <td>0.0</td>\n",
       "      <td>0.0</td>\n",
       "      <td>0.0</td>\n",
       "      <td>0.0</td>\n",
       "      <td>0.0</td>\n",
       "    </tr>\n",
       "    <tr>\n",
       "      <th>2016-01-01 04:00:00</th>\n",
       "      <td>-0.937247</td>\n",
       "      <td>-1.068886</td>\n",
       "      <td>-1.253817</td>\n",
       "      <td>-0.319598</td>\n",
       "      <td>-0.355932</td>\n",
       "      <td>-0.110791</td>\n",
       "      <td>-0.198160</td>\n",
       "      <td>-0.051975</td>\n",
       "      <td>-0.314029</td>\n",
       "      <td>0.190115</td>\n",
       "      <td>...</td>\n",
       "      <td>0.0</td>\n",
       "      <td>0.0</td>\n",
       "      <td>0.0</td>\n",
       "      <td>0.0</td>\n",
       "      <td>0.0</td>\n",
       "      <td>0.0</td>\n",
       "      <td>0.0</td>\n",
       "      <td>0.0</td>\n",
       "      <td>0.0</td>\n",
       "      <td>0.0</td>\n",
       "    </tr>\n",
       "    <tr>\n",
       "      <th>...</th>\n",
       "      <td>...</td>\n",
       "      <td>...</td>\n",
       "      <td>...</td>\n",
       "      <td>...</td>\n",
       "      <td>...</td>\n",
       "      <td>...</td>\n",
       "      <td>...</td>\n",
       "      <td>...</td>\n",
       "      <td>...</td>\n",
       "      <td>...</td>\n",
       "      <td>...</td>\n",
       "      <td>...</td>\n",
       "      <td>...</td>\n",
       "      <td>...</td>\n",
       "      <td>...</td>\n",
       "      <td>...</td>\n",
       "      <td>...</td>\n",
       "      <td>...</td>\n",
       "      <td>...</td>\n",
       "      <td>...</td>\n",
       "      <td>...</td>\n",
       "    </tr>\n",
       "    <tr>\n",
       "      <th>2016-04-30 19:00:00</th>\n",
       "      <td>1.611740</td>\n",
       "      <td>0.980942</td>\n",
       "      <td>1.069631</td>\n",
       "      <td>0.861707</td>\n",
       "      <td>1.689519</td>\n",
       "      <td>1.247018</td>\n",
       "      <td>1.259110</td>\n",
       "      <td>1.843733</td>\n",
       "      <td>1.784929</td>\n",
       "      <td>1.524880</td>\n",
       "      <td>...</td>\n",
       "      <td>0.0</td>\n",
       "      <td>0.0</td>\n",
       "      <td>0.0</td>\n",
       "      <td>0.0</td>\n",
       "      <td>0.0</td>\n",
       "      <td>0.0</td>\n",
       "      <td>0.0</td>\n",
       "      <td>0.0</td>\n",
       "      <td>0.0</td>\n",
       "      <td>0.0</td>\n",
       "    </tr>\n",
       "    <tr>\n",
       "      <th>2016-04-30 20:00:00</th>\n",
       "      <td>1.243845</td>\n",
       "      <td>0.968594</td>\n",
       "      <td>0.277938</td>\n",
       "      <td>1.009370</td>\n",
       "      <td>1.127020</td>\n",
       "      <td>1.005314</td>\n",
       "      <td>1.396265</td>\n",
       "      <td>1.887368</td>\n",
       "      <td>1.881674</td>\n",
       "      <td>1.066476</td>\n",
       "      <td>...</td>\n",
       "      <td>0.0</td>\n",
       "      <td>0.0</td>\n",
       "      <td>0.0</td>\n",
       "      <td>0.0</td>\n",
       "      <td>0.0</td>\n",
       "      <td>0.0</td>\n",
       "      <td>0.0</td>\n",
       "      <td>0.0</td>\n",
       "      <td>0.0</td>\n",
       "      <td>0.0</td>\n",
       "    </tr>\n",
       "    <tr>\n",
       "      <th>2016-04-30 21:00:00</th>\n",
       "      <td>0.823393</td>\n",
       "      <td>0.314131</td>\n",
       "      <td>0.432834</td>\n",
       "      <td>1.206254</td>\n",
       "      <td>1.413383</td>\n",
       "      <td>1.374979</td>\n",
       "      <td>1.722008</td>\n",
       "      <td>2.575834</td>\n",
       "      <td>1.843817</td>\n",
       "      <td>0.284492</td>\n",
       "      <td>...</td>\n",
       "      <td>0.0</td>\n",
       "      <td>0.0</td>\n",
       "      <td>0.0</td>\n",
       "      <td>0.0</td>\n",
       "      <td>0.0</td>\n",
       "      <td>0.0</td>\n",
       "      <td>0.0</td>\n",
       "      <td>0.0</td>\n",
       "      <td>0.0</td>\n",
       "      <td>0.0</td>\n",
       "    </tr>\n",
       "    <tr>\n",
       "      <th>2016-04-30 22:00:00</th>\n",
       "      <td>1.059897</td>\n",
       "      <td>-0.402074</td>\n",
       "      <td>0.036988</td>\n",
       "      <td>0.837096</td>\n",
       "      <td>0.380430</td>\n",
       "      <td>1.076403</td>\n",
       "      <td>2.276342</td>\n",
       "      <td>2.963703</td>\n",
       "      <td>2.171911</td>\n",
       "      <td>0.972098</td>\n",
       "      <td>...</td>\n",
       "      <td>0.0</td>\n",
       "      <td>0.0</td>\n",
       "      <td>0.0</td>\n",
       "      <td>0.0</td>\n",
       "      <td>0.0</td>\n",
       "      <td>0.0</td>\n",
       "      <td>0.0</td>\n",
       "      <td>0.0</td>\n",
       "      <td>0.0</td>\n",
       "      <td>0.0</td>\n",
       "    </tr>\n",
       "    <tr>\n",
       "      <th>2016-04-30 23:00:00</th>\n",
       "      <td>0.849671</td>\n",
       "      <td>-0.142759</td>\n",
       "      <td>-0.341648</td>\n",
       "      <td>0.492549</td>\n",
       "      <td>1.065656</td>\n",
       "      <td>1.844169</td>\n",
       "      <td>2.482074</td>\n",
       "      <td>2.396445</td>\n",
       "      <td>2.209768</td>\n",
       "      <td>0.729414</td>\n",
       "      <td>...</td>\n",
       "      <td>0.0</td>\n",
       "      <td>0.0</td>\n",
       "      <td>0.0</td>\n",
       "      <td>0.0</td>\n",
       "      <td>0.0</td>\n",
       "      <td>0.0</td>\n",
       "      <td>0.0</td>\n",
       "      <td>0.0</td>\n",
       "      <td>0.0</td>\n",
       "      <td>0.0</td>\n",
       "    </tr>\n",
       "  </tbody>\n",
       "</table>\n",
       "<p>2904 rows × 918 columns</p>\n",
       "</div>"
      ],
      "text/plain": [
       "                         1075      1076      1077      1125      1126  \\\n",
       "2016-01-01 00:00:00  0.534333  0.178299 -0.565388  0.271055  1.423610   \n",
       "2016-01-01 01:00:00  0.823393  1.005639 -0.582598  1.673853  2.292927   \n",
       "2016-01-01 02:00:00  0.797115  0.202995 -1.030077  1.083201  2.180427   \n",
       "2016-01-01 03:00:00 -0.727022 -0.525558 -1.150552 -0.098103  0.738384   \n",
       "2016-01-01 04:00:00 -0.937247 -1.068886 -1.253817 -0.319598 -0.355932   \n",
       "...                       ...       ...       ...       ...       ...   \n",
       "2016-04-30 19:00:00  1.611740  0.980942  1.069631  0.861707  1.689519   \n",
       "2016-04-30 20:00:00  1.243845  0.968594  0.277938  1.009370  1.127020   \n",
       "2016-04-30 21:00:00  0.823393  0.314131  0.432834  1.206254  1.413383   \n",
       "2016-04-30 22:00:00  1.059897 -0.402074  0.036988  0.837096  0.380430   \n",
       "2016-04-30 23:00:00  0.849671 -0.142759 -0.341648  0.492549  1.065656   \n",
       "\n",
       "                         1127      1128      1129      1130      1131  ...  \\\n",
       "2016-01-01 00:00:00  0.941333  1.327688  1.324958  1.906912  1.834977  ...   \n",
       "2016-01-01 01:00:00  1.069294  0.407607  0.529828  0.846918  1.255230  ...   \n",
       "2016-01-01 02:00:00  1.104839  0.081865  0.108021 -0.065856  0.095738  ...   \n",
       "2016-01-01 03:00:00  0.920006  0.144727 -0.168335 -0.276172  0.473247  ...   \n",
       "2016-01-01 04:00:00 -0.110791 -0.198160 -0.051975 -0.314029  0.190115  ...   \n",
       "...                       ...       ...       ...       ...       ...  ...   \n",
       "2016-04-30 19:00:00  1.247018  1.259110  1.843733  1.784929  1.524880  ...   \n",
       "2016-04-30 20:00:00  1.005314  1.396265  1.887368  1.881674  1.066476  ...   \n",
       "2016-04-30 21:00:00  1.374979  1.722008  2.575834  1.843817  0.284492  ...   \n",
       "2016-04-30 22:00:00  1.076403  2.276342  2.963703  2.171911  0.972098  ...   \n",
       "2016-04-30 23:00:00  1.844169  2.482074  2.396445  2.209768  0.729414  ...   \n",
       "\n",
       "                     1630_cross_region  1684_cross_region  1733_cross_region  \\\n",
       "2016-01-01 00:00:00                0.0                0.0                0.0   \n",
       "2016-01-01 01:00:00                0.0                0.0                0.0   \n",
       "2016-01-01 02:00:00                0.0                0.0                0.0   \n",
       "2016-01-01 03:00:00                0.0                0.0                0.0   \n",
       "2016-01-01 04:00:00                0.0                0.0                0.0   \n",
       "...                                ...                ...                ...   \n",
       "2016-04-30 19:00:00                0.0                0.0                0.0   \n",
       "2016-04-30 20:00:00                0.0                0.0                0.0   \n",
       "2016-04-30 21:00:00                0.0                0.0                0.0   \n",
       "2016-04-30 22:00:00                0.0                0.0                0.0   \n",
       "2016-04-30 23:00:00                0.0                0.0                0.0   \n",
       "\n",
       "                     1734_cross_region  1783_cross_region  2068_cross_region  \\\n",
       "2016-01-01 00:00:00                0.0                0.0                0.0   \n",
       "2016-01-01 01:00:00                0.0                0.0                0.0   \n",
       "2016-01-01 02:00:00                0.0                0.0                0.0   \n",
       "2016-01-01 03:00:00                0.0                0.0                0.0   \n",
       "2016-01-01 04:00:00                0.0                0.0                0.0   \n",
       "...                                ...                ...                ...   \n",
       "2016-04-30 19:00:00                0.0                0.0                0.0   \n",
       "2016-04-30 20:00:00                0.0                0.0                0.0   \n",
       "2016-04-30 21:00:00                0.0                0.0                0.0   \n",
       "2016-04-30 22:00:00                0.0                0.0                0.0   \n",
       "2016-04-30 23:00:00                0.0                0.0                0.0   \n",
       "\n",
       "                     2069_cross_region  2118_cross_region  2119_cross_region  \\\n",
       "2016-01-01 00:00:00                0.0                0.0                0.0   \n",
       "2016-01-01 01:00:00                0.0                0.0                0.0   \n",
       "2016-01-01 02:00:00                0.0                0.0                0.0   \n",
       "2016-01-01 03:00:00                0.0                0.0                0.0   \n",
       "2016-01-01 04:00:00                0.0                0.0                0.0   \n",
       "...                                ...                ...                ...   \n",
       "2016-04-30 19:00:00                0.0                0.0                0.0   \n",
       "2016-04-30 20:00:00                0.0                0.0                0.0   \n",
       "2016-04-30 21:00:00                0.0                0.0                0.0   \n",
       "2016-04-30 22:00:00                0.0                0.0                0.0   \n",
       "2016-04-30 23:00:00                0.0                0.0                0.0   \n",
       "\n",
       "                     2168_cross_region  \n",
       "2016-01-01 00:00:00                0.0  \n",
       "2016-01-01 01:00:00                0.0  \n",
       "2016-01-01 02:00:00                0.0  \n",
       "2016-01-01 03:00:00                0.0  \n",
       "2016-01-01 04:00:00                0.0  \n",
       "...                                ...  \n",
       "2016-04-30 19:00:00                0.0  \n",
       "2016-04-30 20:00:00                0.0  \n",
       "2016-04-30 21:00:00                0.0  \n",
       "2016-04-30 22:00:00                0.0  \n",
       "2016-04-30 23:00:00                0.0  \n",
       "\n",
       "[2904 rows x 918 columns]"
      ]
     },
     "execution_count": 39,
     "metadata": {},
     "output_type": "execute_result"
    }
   ],
   "source": [
    "prep_seasons"
   ]
  },
  {
   "cell_type": "markdown",
   "metadata": {},
   "source": [
    "# 3 Задание"
   ]
  },
  {
   "cell_type": "code",
   "execution_count": 40,
   "metadata": {},
   "outputs": [
    {
     "name": "stderr",
     "output_type": "stream",
     "text": [
      "102it [3:12:46, 113.40s/it]\n"
     ]
    }
   ],
   "source": [
    "d=1\n",
    "D=0\n",
    "mistake = 0\n",
    "new_sample_predict = pd.DataFrame(columns=['id', 'y'])\n",
    "# predict = pd.concat((test.iloc[-6:], predict))\n",
    "# test = test.iloc[:-6]\n",
    "for time_zone, region in tqdm(enumerate(classter_region.keys())):\n",
    "    split_time = TimeSplit(test.index, 0, 6, 1)\n",
    "    iter_time = iter(split_time)\n",
    "    all_data = pd.concat((prep_seasons, test))\n",
    "    clas = classter_region[region]\n",
    "    param = models_params[f'claster {clas}']\n",
    "    optim = best_class_opt[f'claster {clas}']\n",
    "    X_train = create_add_regreassors(all_data, region, optim)\n",
    "#     X_test = create_add_regreassors(test, region, optim)\n",
    "#     model=sm.tsa.statespace.SARIMAX(all_data[region], order=(param[0], d, param[1]), \n",
    "#                                             seasonal_order=(param[2], D, param[3], 24),\n",
    "#                                     exog=X_train,initialization='approximate_diffuse').fit(disp=-1)\n",
    "    model = models[f'claster {clas}']\n",
    "    all_data = pd.concat((all_data, X_train), axis=1)\n",
    "    all_data = add_sum_regions(all_data, region, [12, 24, 24 * 7, 24 * 30])\n",
    "    all_data = add_td_features(all_data, 7, 3, region)\n",
    "    all_data = add_arima_prediction(all_data, model, X_train.loc[test.index])\n",
    "    all_data = add_time_features(all_data)\n",
    "    all_data.dropna(inplace=True)\n",
    "#     all_data.reset_index(inplace=True)\n",
    "#     all_data.drop('index', axis=1, inplace=True)\n",
    "    for _, i in iter_time:\n",
    "#         new_observation = test[region].loc[i[0]]\n",
    "#         exog_train = X_test.loc[i[0]]\n",
    "        train_data = all_data[all_data.index < i[0]]\n",
    "        forecast_data = all_data.loc[i]\n",
    "        update_res = ElasticNet(alpha=0.1).fit(train_data.drop(region, axis=1), train_data[region])\n",
    "        forecast = update_res.predict(forecast_data.drop(region, axis=1))\n",
    "#         if len(i[0]) == 0:\n",
    "#             update_res = model\n",
    "#         else:\n",
    "#             update_res = model.append(new_observation, exog=exog_train)\n",
    "#         forecast = update_res.forecast(len(i[1]), exog=exog_test)\n",
    "        mistake += metric(forecast, forecast_data[region].values) * inverse_data[region][1]"
   ]
  },
  {
   "cell_type": "markdown",
   "metadata": {},
   "source": [
    "## Ошибка на мае"
   ]
  },
  {
   "cell_type": "code",
   "execution_count": 41,
   "metadata": {},
   "outputs": [
    {
     "data": {
      "text/plain": [
       "16.140161514545465"
      ]
     },
     "execution_count": 41,
     "metadata": {},
     "output_type": "execute_result"
    }
   ],
   "source": [
    "mistake/len(classter_region.keys())/739/6"
   ]
  },
  {
   "cell_type": "markdown",
   "metadata": {},
   "source": [
    "# 4 Задание"
   ]
  },
  {
   "cell_type": "code",
   "execution_count": 43,
   "metadata": {},
   "outputs": [
    {
     "name": "stderr",
     "output_type": "stream",
     "text": [
      "102it [54:03, 31.80s/it]\n",
      "0it [00:00, ?it/s]"
     ]
    },
    {
     "name": "stdout",
     "output_type": "stream",
     "text": [
      "                            0\n",
      "1327_total_amount    0.000000\n",
      "1326_total_amount    0.000000\n",
      "1332_total_amount    0.000000\n",
      "1383_total_amount    0.000000\n",
      "1382_total_amount    0.000000\n",
      "1380_total_amount    0.000000\n",
      "1378_total_amount    0.000000\n",
      "1377_total_amount    0.000000\n",
      "1376_total_amount    0.000000\n",
      "1331_total_amount    0.000000\n",
      "1339_total_amount    0.000000\n",
      "1337_total_amount    0.000000\n",
      "1336_total_amount    0.000000\n",
      "1335_total_amount    0.000000\n",
      "1334_total_amount    0.000000\n",
      "1333_total_amount    0.000000\n",
      "1338_total_amount    0.000000\n",
      "hour                 0.000000\n",
      "1376_trip_distance   0.000003\n",
      "region_2168_sum_720  0.001848\n"
     ]
    },
    {
     "name": "stderr",
     "output_type": "stream",
     "text": [
      "102it [55:07, 32.42s/it]\n",
      "0it [00:00, ?it/s]"
     ]
    },
    {
     "name": "stdout",
     "output_type": "stream",
     "text": [
      "                            0\n",
      "1287_total_amount    0.000000\n",
      "1331_total_amount    0.000000\n",
      "1382_total_amount    0.000000\n",
      "1380_total_amount    0.000000\n",
      "1378_total_amount    0.000000\n",
      "1377_total_amount    0.000000\n",
      "1376_total_amount    0.000000\n",
      "1339_total_amount    0.000000\n",
      "1327_total_amount    0.000000\n",
      "1338_total_amount    0.000000\n",
      "1336_total_amount    0.000000\n",
      "1335_total_amount    0.000000\n",
      "1334_total_amount    0.000000\n",
      "1333_total_amount    0.000000\n",
      "1332_total_amount    0.000000\n",
      "1337_total_amount    0.000000\n",
      "hour                 0.000000\n",
      "1376_trip_distance   0.000005\n",
      "region_2168_sum_720  0.000888\n",
      "region_2168_sum_168  0.003778\n"
     ]
    },
    {
     "name": "stderr",
     "output_type": "stream",
     "text": [
      "102it [56:15, 33.09s/it]\n",
      "0it [00:00, ?it/s]"
     ]
    },
    {
     "name": "stdout",
     "output_type": "stream",
     "text": [
      "                            0\n",
      "1331_total_amount    0.000000\n",
      "1332_total_amount    0.000000\n",
      "1333_total_amount    0.000000\n",
      "1334_total_amount    0.000000\n",
      "1335_total_amount    0.000000\n",
      "1382_total_amount    0.000000\n",
      "1380_total_amount    0.000000\n",
      "1336_total_amount    0.000000\n",
      "1337_total_amount    0.000000\n",
      "1327_total_amount    0.000000\n",
      "1338_total_amount    0.000000\n",
      "1339_total_amount    0.000000\n",
      "1376_total_amount    0.000000\n",
      "1377_total_amount    0.000000\n",
      "1378_total_amount    0.000000\n",
      "1376_trip_distance   0.000004\n",
      "1280_trip_distance   0.000042\n",
      "region_2168_sum_24   0.004298\n",
      "region_2168_sum_168  0.005283\n",
      "hour                 0.015775\n"
     ]
    },
    {
     "name": "stderr",
     "output_type": "stream",
     "text": [
      "102it [1:19:48, 46.95s/it]\n",
      "0it [00:00, ?it/s]"
     ]
    },
    {
     "name": "stdout",
     "output_type": "stream",
     "text": [
      "                            0\n",
      "1378_total_amount    0.000000\n",
      "1334_total_amount    0.000000\n",
      "1335_total_amount    0.000000\n",
      "1377_total_amount    0.000000\n",
      "1376_total_amount    0.000000\n",
      "1339_total_amount    0.000000\n",
      "1336_total_amount    0.000000\n",
      "1331_total_amount    0.000000\n",
      "1337_total_amount    0.000000\n",
      "1338_total_amount    0.000000\n",
      "1376_trip_distance   0.000001\n",
      "1183_trip_distance   0.000005\n",
      "1129_walk_time       0.000007\n",
      "1280_trip_distance   0.000048\n",
      "1181_trip_distance   0.000172\n",
      "1333_trip_distance   0.000279\n",
      "region_2168_sum_168  0.001557\n",
      "region_2168_sum_24   0.012023\n",
      "region_2168_sum_12   0.037544\n",
      "hour                 0.058475\n"
     ]
    },
    {
     "name": "stderr",
     "output_type": "stream",
     "text": [
      "102it [2:05:02, 73.56s/it]\n",
      "0it [00:00, ?it/s]"
     ]
    },
    {
     "name": "stdout",
     "output_type": "stream",
     "text": [
      "                            0\n",
      "1334_total_amount    0.000000\n",
      "1333_total_amount    0.000000\n",
      "1376_trip_distance   0.000002\n",
      "1183_trip_distance   0.000005\n",
      "1127_trip_distance   0.000008\n",
      "1222_trip_distance   0.000023\n",
      "region_2168_sum_720  0.000040\n",
      "1280_trip_distance   0.000044\n",
      "1129_walk_time       0.000106\n",
      "1181_trip_distance   0.000160\n",
      "region_2168_sum_168  0.000547\n",
      "1333_trip_distance   0.001142\n",
      "region_2168_sum_24   0.005606\n",
      "2119_VendorID        0.009457\n",
      "day_2_2168           0.016098\n",
      "region_2168_sum_12   0.048511\n",
      "day_1_2168           0.052697\n",
      "hour                 0.052980\n",
      "2168_RatecodeID      0.053655\n",
      "2168_payment_type    0.074222\n"
     ]
    },
    {
     "name": "stderr",
     "output_type": "stream",
     "text": [
      "102it [3:51:33, 136.21s/it]\n"
     ]
    },
    {
     "name": "stdout",
     "output_type": "stream",
     "text": [
      "                           0\n",
      "1333_trip_distance  0.001377\n",
      "1234_total_amount   0.001854\n",
      "1229_walk_time      0.004767\n",
      "1180_total_amount   0.005002\n",
      "2119_trip_distance  0.012646\n",
      "1182_total_amount   0.013073\n",
      "hour                0.015477\n",
      "s_14                0.019014\n",
      "s_21                0.028671\n",
      "time_5_2168         0.035556\n",
      "time_1_2168         0.040148\n",
      "1181                0.041958\n",
      "time_4_2168         0.048129\n",
      "region_2168_sum_12  0.058640\n",
      "2119_VendorID       0.061299\n",
      "day_2_2168          0.090099\n",
      "2168_RatecodeID     0.099560\n",
      "2168_payment_type   0.121987\n",
      "day_1_2168          0.133916\n",
      "2118                0.144884\n"
     ]
    }
   ],
   "source": [
    "for regular in [0.1, 0.5, 1, 5, 15, 50][::-1]:\n",
    "    d=1\n",
    "    D=0\n",
    "    mistake = 0\n",
    "    new_sample_predict = pd.DataFrame(columns=['id', 'y'])\n",
    "    new_predict = pd.concat((test.iloc[-6:], predict))\n",
    "    new_test = test.iloc[:-6]\n",
    "    for time_zone, region in tqdm(enumerate(classter_region.keys())):\n",
    "        split_time = TimeSplit(new_predict.index, 0, 6, 1)\n",
    "        iter_time = iter(split_time)\n",
    "        all_data = pd.concat((prep_seasons, new_test, new_predict))\n",
    "        clas = classter_region[region]\n",
    "        param = models_params[f'claster {clas}']\n",
    "        optim = best_class_opt[f'claster {clas}']\n",
    "        X_train = create_add_regreassors(all_data, region, optim)\n",
    "    #     X_test = create_add_regreassors(test, region, optim)\n",
    "    #     model=sm.tsa.statespace.SARIMAX(all_data[region], order=(param[0], d, param[1]), \n",
    "    #                                             seasonal_order=(param[2], D, param[3], 24),\n",
    "    #                                     exog=X_train,initialization='approximate_diffuse').fit(disp=-1)\n",
    "        model = models[f'claster {clas}']\n",
    "        all_data = pd.concat((all_data, X_train), axis=1)\n",
    "        all_data = add_sum_regions(all_data, region, [12, 24, 24 * 7, 24 * 30])\n",
    "        all_data = add_td_features(all_data, 7, 3, region)\n",
    "        all_data = add_arima_prediction(all_data, model, X_train.loc[pd.concat((new_test, new_predict)).index])\n",
    "        all_data = add_time_features(all_data)\n",
    "        all_data.dropna(inplace=True)\n",
    "    #     all_data.reset_index(inplace=True)\n",
    "    #     all_data.drop('index', axis=1, inplace=True)\n",
    "        for _, i in iter_time:\n",
    "    #         new_observation = test[region].loc[i[0]]\n",
    "    #         exog_train = X_test.loc[i[0]]\n",
    "            train_data = all_data[all_data.index < i[0]]\n",
    "            forecast_data = all_data.loc[i]\n",
    "            update_res = ElasticNet(alpha=regular, max_iter=100000).fit(train_data.drop(region, axis=1), train_data[region])\n",
    "            forecast = update_res.predict(forecast_data.drop(region, axis=1))\n",
    "            forecast = forecast * inverse_data[region][1] + inverse_data[region][0]\n",
    "            forecast = pd.DataFrame({region: forecast}, index = forecast_data.index)\n",
    "            forecast = forecast[(forecast.index >= pd.to_datetime(\"31-5-16 23\")) & (forecast.index <= pd.to_datetime(\"30-6-16 17\"))]\n",
    "            forecast.index = [f\"{region}_{str(x).split(' ')[0]}_{x.hour}\" \n",
    "                                                     for x in (forecast.index)]\n",
    "            new_sample_predict = pd.concat((new_sample_predict, pd.DataFrame({'id': forecast.index,'y': forecast[region].values})))\n",
    "    new_sample_predict = new_sample_predict.sort_values('id')\n",
    "    new_sample_predict['id'] = [f'{x}_{z%6 + 1}' for z, x in enumerate(new_sample_predict['id'])]\n",
    "    new_sample_predict.to_csv(f'predict_6_reg_{regular}.csv', index=False)\n",
    "    print(pd.DataFrame(abs(update_res.coef_), index=train_data.drop(region, axis=1).columns).sort_values(by=0).tail(20))\n",
    "    #         if len(i[0]) == 0:\n",
    "    #             update_res = model\n",
    "    #         else:\n",
    "    #             update_res = model.append(new_observation, exog=exog_train)\n",
    "    #         forecast = update_res.forecast(len(i[1]), exog=exog_test)\n",
    "    #         mistake += metric(forecast, forecast_data[region].values) * inverse_data[region][1]"
   ]
  },
  {
   "cell_type": "code",
   "execution_count": null,
   "metadata": {},
   "outputs": [],
   "source": [
    "new_sample_predict = new_sample_predict.sort_values('id')\n",
    "new_sample_predict['id'] = [f'{x}_{z%6 + 1}' for z, x in enumerate(new_sample_predict['id'])]\n",
    "new_sample_predict.to_csv('predict_6.csv', index=False)"
   ]
  },
  {
   "cell_type": "code",
   "execution_count": 59,
   "metadata": {},
   "outputs": [
    {
     "name": "stdout",
     "output_type": "stream",
     "text": [
      "                            0\n",
      "region_2168_sum_720  0.000329\n",
      "1127_trip_distance   0.000477\n",
      "1336_RatecodeID      0.000575\n",
      "1222_trip_distance   0.000873\n",
      "1333_trip_distance   0.001374\n",
      "2118_total_amount    0.002272\n",
      "1441_RatecodeID      0.002493\n",
      "1281_trip_distance   0.002606\n",
      "1234_total_amount    0.003980\n",
      "1131_total_amount    0.004148\n",
      "region_2168_sum_24   0.004368\n",
      "1733_VendorID        0.005393\n",
      "1332_RatecodeID      0.005506\n",
      "hour                 0.005620\n",
      "1335_walk_time       0.006668\n",
      "c_28                 0.006851\n",
      "c_23                 0.011186\n",
      "2119_trip_distance   0.011863\n",
      "1229_walk_time       0.012251\n",
      "s_1                  0.024032\n",
      "time_3_2168          0.026500\n",
      "c_42                 0.026733\n",
      "s_2                  0.028933\n",
      "1181                 0.030342\n",
      "c_63                 0.034353\n",
      "1180_total_amount    0.035016\n",
      "s_14                 0.035220\n",
      "time_1_2168          0.040733\n",
      "time_4_2168          0.044987\n",
      "time_6_2168          0.046015\n",
      "1783                 0.052151\n",
      "time_5_2168          0.054702\n",
      "2119_VendorID        0.065602\n",
      "region_2168_sum_12   0.073457\n",
      "day_2_2168           0.083048\n",
      "2168_RatecodeID      0.101133\n",
      "2168_payment_type    0.119338\n",
      "s_21                 0.138270\n",
      "day_1_2168           0.140094\n",
      "2118                 0.155800\n"
     ]
    }
   ],
   "source": [
    "print(pd.DataFrame(abs(update_res.coef_), index=train_data.drop(region, axis=1).columns).sort_values(by=0).tail(40))"
   ]
  },
  {
   "cell_type": "code",
   "execution_count": 53,
   "metadata": {},
   "outputs": [
    {
     "data": {
      "text/plain": [
       "2168"
      ]
     },
     "execution_count": 53,
     "metadata": {},
     "output_type": "execute_result"
    }
   ],
   "source": [
    "region"
   ]
  },
  {
   "attachments": {
    "e6de8ff5-2c6a-47a7-8a1e-905c9b08db14.png": {
     "image/png": "[encoded data removed]"
    }
   },
   "cell_type": "markdown",
   "metadata": {},
   "source": [
    "# 5 Задание\n",
    "## Полученый скор\n",
    "![image.png](attachment:e6de8ff5-2c6a-47a7-8a1e-905c9b08db14.png)"
   ]
  }
 ],
 "metadata": {
  "kernelspec": {
   "display_name": "Python 3",
   "language": "python",
   "name": "python3"
  },
  "language_info": {
   "codemirror_mode": {
    "name": "ipython",
    "version": 3
   },
   "file_extension": ".py",
   "mimetype": "text/x-python",
   "name": "python",
   "nbconvert_exporter": "python",
   "pygments_lexer": "ipython3",
   "version": "3.8.5"
  }
 },
 "nbformat": 4,
 "nbformat_minor": 4
}
